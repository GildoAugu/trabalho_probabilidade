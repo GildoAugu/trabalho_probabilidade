{
 "cells": [
  {
   "cell_type": "code",
   "execution_count": 2,
   "metadata": {},
   "outputs": [],
   "source": [
    "# boas práticas: criar uma célula com todas as bibliotecas necessárias\n",
    "# importando as bibliotecas necessárias\n",
    "import pandas as pd\n",
    "import matplotlib.pyplot as plt\n",
    "import seaborn as sns\n",
    "import numpy as np"
   ]
  },
  {
   "cell_type": "code",
   "execution_count": 3,
   "metadata": {},
   "outputs": [],
   "source": [
    "# Turmas 2017.2\n",
    "# http://dados.ufrn.br/dataset/turmas\n",
    "\n",
    "# turmas\n",
    "turmas_url = 'http://bit.do/turmas_ufrn_2017_2'\n",
    "\n",
    "# matrículas em componentes em 2017.2\n",
    "notas_url = 'http://bit.do/notas_ufrn_2017_2'\n",
    "\n",
    "# componentes curriculares presenciais\n",
    "disciplinas_url = 'http://bit.do/componentes_curriculares_ufrn'\n",
    "\n",
    "# turmas 2017.2\n",
    "turmas = pd.read_csv(turmas_url, sep=';')\n",
    "\n",
    "# matriculas em componentes em 2017.2\n",
    "notas = pd.read_csv(notas_url, sep=';')\n",
    "\n",
    "# componentes curriculares presenciais\n",
    "# por alguma razão ou outra, esse dataset tinha algum lixo em linhas que ocasionava \n",
    "# erros de leitura, dessa forma foi realizado um filtro apenas por colunas mais importantes\n",
    "disciplinas = pd.read_csv(disciplinas_url, \n",
    "                          sep=';', \n",
    "                          usecols=[\"id_componente\",\"codigo\",\"nivel\",\"nome\",\"unidade_responsavel\"])"
   ]
  },
  {
   "cell_type": "code",
   "execution_count": 3,
   "metadata": {
    "collapsed": true
   },
   "outputs": [],
   "source": [
    "# Adaptando o dataframe turma e disciplinas para o merge\n",
    "# Esse procedimento é necessário pois o dataframe turma está codificado com ids\n",
    "\n",
    "# A coluna id_componente precisa ser a mesma em ambos os dataframes\n",
    "turmas.rename(columns={'id_componente_curricular': 'id_componente'}, inplace=True)\n",
    "\n",
    "# id_componente em ambos os dataframes precisam ser do mesmo tipo\n",
    "turmas.id_componente = turmas.id_componente.astype(str)\n",
    "\n",
    "# Limpando o dataframe disciplinas com linhas desnecessárias\n",
    "disciplinas = disciplinas[~disciplinas.id_componente.duplicated()]\n",
    "\n",
    "# Pegando apenas as disciplinas do IMD\n",
    "disciplinas = disciplinas[disciplinas.unidade_responsavel == 'INSTITUTO METROPOLE DIGITAL']"
   ]
  },
  {
   "cell_type": "code",
   "execution_count": 4,
   "metadata": {
    "collapsed": true
   },
   "outputs": [],
   "source": [
    "# Fazendo um merge entre o dataframe turmas e disciplinas utilizando como base a coluna id_componente\n",
    "# https://pandas.pydata.org/pandas-docs/stable/merging.html\n",
    "colunas = [\"id_turma\",\"codigo\",\"nivel_ensino\",\"nome\",\"unidade_responsavel\",\n",
    "          \"situacao_turma\",\"capacidade_aluno\",\"descricao_horario\", \"ano\", \"periodo\"]\n",
    "\n",
    "# merge os dois dataframes utilizando como base a coluna id_componenteb\n",
    "disciplinas_turma = pd.merge(turmas, disciplinas, on='id_componente')[colunas]"
   ]
  },
  {
   "cell_type": "code",
   "execution_count": 6,
   "metadata": {
    "collapsed": true
   },
   "outputs": [],
   "source": [
    "colunas_relevantes = [\"id_turma\", \"codigo\", \"nome\", \"descricao_horario\", \"ano\", \n",
    "                      \"periodo\", \"media_final\", \"numero_total_faltas\", \"descricao\", \"discente\"]\n",
    "# Merge de turma com as notas\n",
    "notas_turma = pd.merge(disciplinas_turma, notas, on='id_turma')[colunas_relevantes]"
   ]
  },
  {
   "cell_type": "code",
   "execution_count": 103,
   "metadata": {},
   "outputs": [
    {
     "data": {
      "application/javascript": [
       "// Para evitar dos graficos ficarem contidos numa caixa com scroll\n",
       "IPython.OutputArea.prototype._should_scroll = function(lines) {\n",
       "    return false;\n",
       "}"
      ],
      "text/plain": [
       "<IPython.core.display.Javascript object>"
      ]
     },
     "metadata": {},
     "output_type": "display_data"
    }
   ],
   "source": [
    "%%javascript\n",
    "// Para evitar dos graficos ficarem contidos numa caixa com scroll\n",
    "IPython.OutputArea.prototype._should_scroll = function(lines) {\n",
    "    return false;\n",
    "}"
   ]
  },
  {
   "cell_type": "code",
   "execution_count": 1,
   "metadata": {},
   "outputs": [
    {
     "ename": "NameError",
     "evalue": "name 'sns' is not defined",
     "output_type": "error",
     "traceback": [
      "\u001b[1;31m---------------------------------------------------------------------------\u001b[0m",
      "\u001b[1;31mNameError\u001b[0m                                 Traceback (most recent call last)",
      "\u001b[1;32m<ipython-input-1-652ec7fe97f2>\u001b[0m in \u001b[0;36m<module>\u001b[1;34m()\u001b[0m\n\u001b[1;32m----> 1\u001b[1;33m \u001b[0msns\u001b[0m\u001b[1;33m.\u001b[0m\u001b[0mset_style\u001b[0m\u001b[1;33m(\u001b[0m\u001b[1;34m\"whitegrid\"\u001b[0m\u001b[1;33m)\u001b[0m\u001b[1;33m\u001b[0m\u001b[0m\n\u001b[0m\u001b[0;32m      2\u001b[0m \u001b[1;33m\u001b[0m\u001b[0m\n\u001b[0;32m      3\u001b[0m disciplinas = (\n\u001b[0;32m      4\u001b[0m     \u001b[1;34m'FUNDAMENTOS MATEMÁTICOS DA COMPUTAÇÃO II'\u001b[0m\u001b[1;33m,\u001b[0m\u001b[1;33m\u001b[0m\u001b[0m\n\u001b[0;32m      5\u001b[0m     \u001b[1;34m'LINGUAGEM DE PROGRAMAÇÃO I'\u001b[0m\u001b[1;33m,\u001b[0m\u001b[1;33m\u001b[0m\u001b[0m\n",
      "\u001b[1;31mNameError\u001b[0m: name 'sns' is not defined"
     ]
    }
   ],
   "source": [
    "sns.set_style(\"whitegrid\")\n",
    "\n",
    "disciplinas = (\n",
    "    'FUNDAMENTOS MATEMÁTICOS DA COMPUTAÇÃO II',\n",
    "    'LINGUAGEM DE PROGRAMAÇÃO I',\n",
    "    'LINGUAGEM DE PROGRAMAÇÃO II',\n",
    "    'FUNDAMENTOS MATEMÁTICOS DA COMPUTAÇÃO I',\n",
    "    'RESOLUÇÃO DE PROBLEMAS MATEMÁTICOS PARA TI',\n",
    "    'ESTRUTURAS DE DADOS BÁSICAS II',\n",
    "    'PROBABILIDADE',\n",
    "    'REDES DE COMPUTADORES'\n",
    ")\n",
    "# Aqui é gerado um dicionário em que a chave é o nome da disciplina e o valor é um dataframe contendo as\n",
    "# notas para aquela disciplina. Como a disciplina tem mais de uma unidade, a quantidade de faltas aparece em um\n",
    "# numero igual a quantidade de unidades. Para evitar isso e gerar incosistências na análise foi removido esses\n",
    "# dados duplicados e deixado apenas um por discente.\n",
    "dataframes_notas = {}\n",
    "for disciplina in disciplinas:\n",
    "    dataframes_notas[disciplina] = notas_turma[notas_turma.nome == disciplina].drop_duplicates('discente')\n",
    "    \n",
    "# Aqui percorremos o dataframes_notas, montado anteriormente, e criamos o dataframe_grupos, que também tem como \n",
    "# chave o nome das disciplinas e um dataframe contendo os grupos de aprovaçoes como colunas.\n",
    "dataframes_grupos = {}\n",
    "for (disciplina, dataframe) in dataframes_notas.items():\n",
    "    lista_status = list(filter(lambda i : i not in ('INDEFERIDO', 'TRANCADO', 'DESISTENCIA', 'EXCLUIDA', 'REPROVADO POR NOTA', 'CANCELADO'), dataframe.descricao.unique()))\n",
    "    dataframe_montado = {}\n",
    "    for status in lista_status:\n",
    "        dataframe_montado[status] = dataframe[dataframe.descricao == status]['numero_total_faltas']\n",
    "    dataframes_grupos[disciplina] = pd.DataFrame.from_dict(dataframe_montado)\n",
    "\n",
    "# Aqui percorremos o dicionário de dataframes e criamos um gráfico para cada um.\n",
    "for disciplina, dataframe in dataframes_grupos.items():\n",
    "    ax = dataframe.plot(kind='box', rot=90, title=disciplina)\n",
    "    ax.set(ylabel='Faltas')\n",
    "    ax.grid(False)\n",
    "    for key, spine in ax.spines.items():\n",
    "        spine.set_visible(False)\n",
    "        \n",
    "\n",
    "    \n",
    "# Graficos para um dataframe com a junção dos dataframes de todas as disciplinas\n",
    "dataframe_todos = pd.concat(dataframes_grupos.values())\n",
    "dataframe_todos.plot(kind='box', rot=30, title='TODAS AS DISCIPLINAS').set(ylabel='Faltas')\n",
    "#dataframe_todos.plot(kind='kde', rot=30, title='TODAS AS DISCIPLINAS').set(xlabel='Faltas')"
   ]
  },
  {
   "cell_type": "code",
   "execution_count": null,
   "metadata": {
    "collapsed": true
   },
   "outputs": [],
   "source": []
  }
 ],
 "metadata": {
  "kernelspec": {
   "display_name": "Python 3",
   "language": "python",
   "name": "python3"
  },
  "language_info": {
   "codemirror_mode": {
    "name": "ipython",
    "version": 3
   },
   "file_extension": ".py",
   "mimetype": "text/x-python",
   "name": "python",
   "nbconvert_exporter": "python",
   "pygments_lexer": "ipython3",
   "version": "3.6.4"
  }
 },
 "nbformat": 4,
 "nbformat_minor": 2
}

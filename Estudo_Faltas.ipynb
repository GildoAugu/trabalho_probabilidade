{
 "cells": [
  {
   "cell_type": "code",
   "execution_count": 1,
   "metadata": {},
   "outputs": [
    {
     "name": "stdout",
     "output_type": "stream",
     "text": [
      "Requirement already satisfied: pandas in /srv/conda/lib/python3.6/site-packages\n",
      "Requirement already satisfied: pytz>=2011k in /srv/conda/lib/python3.6/site-packages (from pandas)\n",
      "Requirement already satisfied: numpy>=1.9.0 in /srv/conda/lib/python3.6/site-packages (from pandas)\n",
      "Requirement already satisfied: python-dateutil>=2 in /srv/conda/lib/python3.6/site-packages (from pandas)\n",
      "Requirement already satisfied: six>=1.5 in /srv/conda/lib/python3.6/site-packages (from python-dateutil>=2->pandas)\n",
      "\u001b[33mYou are using pip version 9.0.3, however version 10.0.1 is available.\n",
      "You should consider upgrading via the 'pip install --upgrade pip' command.\u001b[0m\n",
      "Requirement already satisfied: seaborn in /srv/conda/lib/python3.6/site-packages\n",
      "Requirement already satisfied: matplotlib in /srv/conda/lib/python3.6/site-packages (from seaborn)\n",
      "Requirement already satisfied: scipy in /srv/conda/lib/python3.6/site-packages (from seaborn)\n",
      "Requirement already satisfied: pyparsing!=2.0.4,!=2.1.2,!=2.1.6,>=2.0.1 in /srv/conda/lib/python3.6/site-packages (from matplotlib->seaborn)\n",
      "Requirement already satisfied: pytz in /srv/conda/lib/python3.6/site-packages (from matplotlib->seaborn)\n",
      "Requirement already satisfied: kiwisolver>=1.0.1 in /srv/conda/lib/python3.6/site-packages (from matplotlib->seaborn)\n",
      "Requirement already satisfied: six>=1.10 in /srv/conda/lib/python3.6/site-packages (from matplotlib->seaborn)\n",
      "Requirement already satisfied: cycler>=0.10 in /srv/conda/lib/python3.6/site-packages (from matplotlib->seaborn)\n",
      "Requirement already satisfied: numpy>=1.7.1 in /srv/conda/lib/python3.6/site-packages (from matplotlib->seaborn)\n",
      "Requirement already satisfied: python-dateutil>=2.1 in /srv/conda/lib/python3.6/site-packages (from matplotlib->seaborn)\n",
      "Requirement already satisfied: setuptools in /srv/conda/lib/python3.6/site-packages (from kiwisolver>=1.0.1->matplotlib->seaborn)\n",
      "\u001b[33mYou are using pip version 9.0.3, however version 10.0.1 is available.\n",
      "You should consider upgrading via the 'pip install --upgrade pip' command.\u001b[0m\n"
     ]
    }
   ],
   "source": [
    "!pip install pandas\n",
    "!pip install seaborn\n",
    "\n",
    "# boas práticas: criar uma célula com todas as bibliotecas necessárias\n",
    "# importando as bibliotecas necessárias\n",
    "import pandas as pd\n",
    "import matplotlib.pyplot as plt\n",
    "import seaborn as sns\n",
    "import numpy as np"
   ]
  },
  {
   "cell_type": "code",
   "execution_count": 72,
   "metadata": {},
   "outputs": [],
   "source": [
    "# Turmas 2017.2\n",
    "# http://dados.ufrn.br/dataset/turmas\n",
    "\n",
    "# turmas\n",
    "turmas_url = 'http://bit.do/turmas_ufrn_2017_2'\n",
    "\n",
    "# matrículas em componentes em 2017.2\n",
    "notas_url = 'http://bit.do/notas_ufrn_2017_2'\n",
    "\n",
    "# componentes curriculares presenciais\n",
    "disciplinas_url = 'http://bit.do/componentes_curriculares_ufrn'\n",
    "\n",
    "# docentes da ufrn atualizado em 2018\n",
    "docentes_url = 'http://bit.do/docentes_ufrn_2018'\n",
    "\n",
    "# turmas 2017.2\n",
    "turmas = pd.read_csv(turmas_url, sep=';')\n",
    "\n",
    "# matriculas em componentes em 2017.2\n",
    "notas = pd.read_csv(notas_url, sep=';')\n",
    "\n",
    "# componentes curriculares presenciais\n",
    "# por alguma razão ou outra, esse dataset tinha algum lixo em linhas que ocasionava \n",
    "# erros de leitura, dessa forma foi realizado um filtro apenas por colunas mais importantes\n",
    "disciplinas = pd.read_csv(disciplinas_url, \n",
    "                          sep=';', \n",
    "                          usecols=[\"id_componente\",\"codigo\",\"nivel\",\"nome\",\"unidade_responsavel\"])\n",
    "\n",
    "docentes = pd.read_csv(docentes_url, sep=';')"
   ]
  },
  {
   "cell_type": "code",
   "execution_count": 73,
   "metadata": {},
   "outputs": [],
   "source": [
    "# Adaptando o dataframe turma e disciplinas para o merge\n",
    "# Esse procedimento é necessário pois o dataframe turma está codificado com ids\n",
    "\n",
    "# A coluna id_componente precisa ser a mesma em ambos os dataframes\n",
    "turmas.rename(columns={'id_componente_curricular': 'id_componente'}, inplace=True)\n",
    "\n",
    "# id_componente em ambos os dataframes precisam ser do mesmo tipo\n",
    "turmas.id_componente = turmas.id_componente.astype(str)\n",
    "\n",
    "# Limpando o dataframe disciplinas com linhas desnecessárias\n",
    "disciplinas = disciplinas[~disciplinas.id_componente.duplicated()]\n",
    "\n",
    "# Pegando apenas as disciplinas do IMD\n",
    "disciplinas = disciplinas[disciplinas.unidade_responsavel == 'INSTITUTO METROPOLE DIGITAL']"
   ]
  },
  {
   "cell_type": "code",
   "execution_count": 74,
   "metadata": {},
   "outputs": [],
   "source": [
    "# Fazendo um merge entre o dataframe turmas e disciplinas utilizando como base a coluna id_componente\n",
    "# https://pandas.pydata.org/pandas-docs/stable/merging.html\n",
    "colunas = [\"id_turma\",\"codigo\",\"nivel_ensino\",\"nome\",\"unidade_responsavel\",\n",
    "          \"situacao_turma\",\"capacidade_aluno\",\"descricao_horario\", \"ano\", \"periodo\"]\n",
    "\n",
    "# merge os dois dataframes utilizando como base a coluna id_componenteb\n",
    "disciplinas_turma = pd.merge(turmas, disciplinas, on='id_componente')[colunas]\n",
    "# Caso a disciplina tenha mais de um docente ela aparece mais de uma vez, esse trecho faz com que cada turma apareça\n",
    "# apenas uma vez.\n",
    "disciplinas_turma = disciplinas_turma[~disciplinas_turma.id_turma.duplicated()]"
   ]
  },
  {
   "cell_type": "code",
   "execution_count": 88,
   "metadata": {},
   "outputs": [],
   "source": [
    "colunas_relevantes = [\"id_turma\", \"codigo\", \"nome\", \"descricao_horario\", \"ano\", \n",
    "                      \"periodo\", \"media_final\", \"numero_total_faltas\", \"descricao\", \"discente\"]\n",
    "# Merge de turma com as notas\n",
    "notas_turma = pd.merge(disciplinas_turma, notas, on='id_turma')[colunas_relevantes]\n",
    "\n",
    "# Como são 3 unidades, cada aluno aparece 3 vezes, porém estamos interessados apenas no resultado final\n",
    "notas_turma = notas_turma[~notas_turma.discente.duplicated()]"
   ]
  },
  {
   "cell_type": "code",
   "execution_count": 91,
   "metadata": {},
   "outputs": [
    {
     "data": {
      "text/html": [
       "<div>\n",
       "<style scoped>\n",
       "    .dataframe tbody tr th:only-of-type {\n",
       "        vertical-align: middle;\n",
       "    }\n",
       "\n",
       "    .dataframe tbody tr th {\n",
       "        vertical-align: top;\n",
       "    }\n",
       "\n",
       "    .dataframe thead th {\n",
       "        text-align: right;\n",
       "    }\n",
       "</style>\n",
       "<table border=\"1\" class=\"dataframe\">\n",
       "  <thead>\n",
       "    <tr style=\"text-align: right;\">\n",
       "      <th></th>\n",
       "      <th>numero_total_faltas</th>\n",
       "    </tr>\n",
       "    <tr>\n",
       "      <th>descricao</th>\n",
       "      <th></th>\n",
       "    </tr>\n",
       "  </thead>\n",
       "  <tbody>\n",
       "    <tr>\n",
       "      <th>APROVADO</th>\n",
       "      <td>22.000000</td>\n",
       "    </tr>\n",
       "    <tr>\n",
       "      <th>APROVADO POR NOTA</th>\n",
       "      <td>8.000000</td>\n",
       "    </tr>\n",
       "    <tr>\n",
       "      <th>CANCELADO</th>\n",
       "      <td>35.333333</td>\n",
       "    </tr>\n",
       "    <tr>\n",
       "      <th>DESISTENCIA</th>\n",
       "      <td>NaN</td>\n",
       "    </tr>\n",
       "    <tr>\n",
       "      <th>REPROVADO</th>\n",
       "      <td>24.750000</td>\n",
       "    </tr>\n",
       "    <tr>\n",
       "      <th>REPROVADO POR MÉDIA E POR FALTAS</th>\n",
       "      <td>52.333333</td>\n",
       "    </tr>\n",
       "  </tbody>\n",
       "</table>\n",
       "</div>"
      ],
      "text/plain": [
       "                                  numero_total_faltas\n",
       "descricao                                            \n",
       "APROVADO                                    22.000000\n",
       "APROVADO POR NOTA                            8.000000\n",
       "CANCELADO                                   35.333333\n",
       "DESISTENCIA                                       NaN\n",
       "REPROVADO                                   24.750000\n",
       "REPROVADO POR MÉDIA E POR FALTAS            52.333333"
      ]
     },
     "execution_count": 91,
     "metadata": {},
     "output_type": "execute_result"
    }
   ],
   "source": [
    "notas_fmc = notas_turma[notas_turma.nome == 'FUNDAMENTOS MATEMÁTICOS DA COMPUTAÇÃO II']\n",
    "notas_lp1 = notas_turma[notas_turma.nome == 'LINGUAGEM DE PROGRAMAÇÃO I']\n",
    "notas_lp2 = notas_turma[notas_turma.nome == 'LINGUAGEM DE PROGRAMAÇÃO II']\n",
    "notas_ple1 = notas_turma[notas_turma.nome == 'PRÁTICAS DE LEITURA E ESCRITA EM PORTUGUÊS I']\n",
    "\n",
    "resultado_fmc = notas_fmc.groupby(\"descricao\").aggregate({\"numero_total_faltas\": \"mean\"})\n",
    "resultado_lp1 = notas_lp1.groupby(\"descricao\").aggregate({\"numero_total_faltas\": \"mean\"})\n",
    "resultado_lp2 = notas_lp2.groupby(\"descricao\").aggregate({\"numero_total_faltas\": \"mean\"})\n",
    "resultado_ple1 = notas_ple1.groupby(\"descricao\").aggregate({\"numero_total_faltas\": \"mean\"})\n",
    "\n",
    "resultado_fmc"
   ]
  },
  {
   "cell_type": "code",
   "execution_count": null,
   "metadata": {},
   "outputs": [
    {
     "name": "stdout",
     "output_type": "stream",
     "text": [
      "[master 6ff62e1] Adicionado agregação de algumas turmas\n",
      " 51 files changed, 2096 insertions(+), 2622 deletions(-)\n",
      " create mode 100644 .bash_logout\n",
      " create mode 100644 .bashrc\n",
      " create mode 100644 .cache/fontconfig/3830d5c3ddfd5cd38a049b759396e72e-le64.cache-7\n",
      " create mode 100644 .cache/fontconfig/7ef2298fde41cc6eeb7af42e48b7d293-le64.cache-7\n",
      " create mode 100644 .cache/fontconfig/CACHEDIR.TAG\n",
      " create mode 100644 .cache/fontconfig/d589a48862398ed80a3d6066f4f56f4c-le64.cache-7\n",
      " create mode 100644 .cache/matplotlib/fontList.json\n",
      " create mode 100644 .cache/pip/http/1/7/b/b/4/17bb4c359c58b8944aba924db1f952f1ebf83975f86088985f70f836\n",
      " create mode 100644 .cache/pip/http/1/d/f/f/a/1dffa36c1139937cf739ab9bd630dfe7e1186e6191f77437142ea774\n",
      " create mode 100644 .cache/pip/http/3/5/8/d/9/358d9164fbffff48dd2beae0acf1ea26f4118d7610c16b731b69dcec\n",
      " create mode 100644 .cache/pip/http/4/1/b/c/0/41bc05aa331fd0cde3aff54717d1d6b8a2eea9ac70158411b9550e3f\n",
      " create mode 100644 .cache/pip/http/4/3/4/7/c/4347ce8b60a90d8edee7981402b32224d448e1bb5b30a17b1eece8e0\n",
      " create mode 100644 .cache/pip/http/4/6/a/5/b/46a5bdc791bc0090b8a9fff744714ebc4685f341c7f7452dad067c61\n",
      " create mode 100644 .cache/pip/http/4/c/c/9/c/4cc9c16218979d747f7f241b0cfb88eddf3d72715d1e884b759a4d74\n",
      " create mode 100644 .cache/pip/http/5/8/1/3/e/5813e3cdadd78c5ead2689fb805f49ab7f8d456aa887903424af0505\n",
      " create mode 100644 .cache/pip/http/6/6/e/c/7/66ec76a7b6ed4081044f5c7821af293b63c17bc2ac523ff93d5ca7d5\n",
      " create mode 100644 .cache/pip/http/7/2/8/a/2/728a2f33f382f4dacf08f6df77aad6f3d889f819ba4fa3efad5ec7e4\n",
      " create mode 100644 .cache/pip/http/7/3/c/3/a/73c3a780e17f5e947c788a9cb111cdef096f43dbe925001283e27a77\n",
      " create mode 100644 .cache/pip/http/7/9/2/1/a/7921ac3318a5cdb592026cc26a94f7a2c1e1f7d3a1dc1e3857fd49f1\n",
      " create mode 100644 .cache/pip/http/8/9/3/a/9/893a9178010858cecf72b523725b46ddedbe6c23406a020810080ab3\n",
      " create mode 100644 .cache/pip/http/9/b/5/1/6/9b51619e20a708f99372afefd7dbe20a1b5e42ae213f02bf27267976\n",
      " create mode 100644 .cache/pip/http/a/3/d/9/e/a3d9e23e29dad035a680056b7a91e65d9f04393aca3dc769d410bf96\n",
      " create mode 100644 .cache/pip/http/b/6/7/1/7/b6717e87addb6017731f423fe015fce53a37ecde04c10e27980bae94\n",
      " create mode 100644 .cache/pip/http/b/7/3/3/7/b7337f456b4177170c41552ba462f5a7de88cba967d38167f3bab0e2\n",
      " create mode 100644 .cache/pip/http/b/8/e/7/6/b8e7603730f749a430fce93237d024f2faf60a51014fc9c270b7a351\n",
      " create mode 100644 .cache/pip/http/b/9/0/6/4/b9064720eb8caaaf72c84007da6659794597c1909d008ba942dc2412\n",
      " create mode 100644 .cache/pip/http/b/9/d/0/8/b9d08294e63f3240168dd86f5a9984955123d078c39b27425cb7354b\n",
      " create mode 100644 .cache/pip/http/b/b/8/7/6/bb876b2e6a22c2739002e9ef3388ae978b7a6192a19fe67d8b0030f2\n",
      " create mode 100644 .cache/pip/http/c/7/8/b/f/c78bfaa069d1f3e78afd86d99cc903d81ce72721afc254357ad6c831\n",
      " create mode 100644 .cache/pip/http/c/c/1/3/3/cc133da5701a066bc3777b2575e0daa601596f19871db4608ca98b97\n",
      " create mode 100644 .cache/pip/http/c/d/5/d/e/cd5de44b899cbe1869765c21b55cffc53c0c0ffa9d3c6f1fd40a42a2\n",
      " create mode 100644 .cache/pip/http/c/f/0/1/1/cf011057d5563fd5742169f01156b5155140468c81636bcff7ed7961\n",
      " create mode 100644 .cache/pip/http/c/f/0/9/0/cf09080a2a9e5e18c1e48d0e71cbc90d81296b201e4231895b18060f\n",
      " create mode 100644 .cache/pip/http/e/8/6/5/b/e865b717ff85a36cb45d28e0d1b6bac3531684199e90fe459ab5bd07\n",
      " create mode 100644 .cache/pip/http/f/1/9/9/6/f1996f18f1832c7ba3d095eaffb526e33284ce48b7d5c3cde3987c58\n",
      " create mode 100644 .cache/pip/http/f/e/d/0/e/fed0ed508030b766d5b0c2792132c8bf197804464765b46b361f93a4\n",
      " create mode 100644 .cache/pip/selfcheck.json\n",
      " create mode 100644 .cache/pip/wheels/26/0a/44/53ddd89769e62f7c6691976375b86c6492e7dd20a2d3970e32/seaborn-0.8.1-cp36-none-any.whl\n",
      " create mode 100644 .conda/pkgs/urls\n",
      " create mode 100644 .conda/pkgs/urls.txt\n",
      " copy Estudo_Faltas.ipynb => .ipynb_checkpoints/Estudo_Faltas-checkpoint.ipynb (94%)\n",
      " create mode 100644 .ipython/profile_default/history.sqlite\n",
      " create mode 100644 .ipython/profile_default/startup/README\n",
      " create mode 100644 .local/share/jupyter/nbsignatures.db\n",
      " create mode 100644 .local/share/jupyter/notebook_secret\n",
      " create mode 100644 .local/share/jupyter/runtime/kernel-6fc97f2c-9793-405c-9963-c67abcbdb596.json\n",
      " create mode 100644 .local/share/jupyter/runtime/nbserver-1.json\n",
      " create mode 100644 .local/share/jupyter/runtime/notebook_cookie_secret\n",
      " create mode 100644 .profile\n",
      " create mode 100644 .wget-hsts\n",
      " rewrite Estudo_Faltas.ipynb (92%)\n",
      "Username for 'https://github.com': "
     ]
    }
   ],
   "source": [
    "!git add .\n",
    "!git commit -m \"Adicionado agregação de algumas turmas\"\n",
    "!git push origin master "
   ]
  },
  {
   "cell_type": "code",
   "execution_count": null,
   "metadata": {},
   "outputs": [],
   "source": []
  },
  {
   "cell_type": "code",
   "execution_count": null,
   "metadata": {},
   "outputs": [],
   "source": []
  }
 ],
 "metadata": {
  "kernelspec": {
   "display_name": "Python 3",
   "language": "python",
   "name": "python3"
  },
  "language_info": {
   "codemirror_mode": {
    "name": "ipython",
    "version": 3
   },
   "file_extension": ".py",
   "mimetype": "text/x-python",
   "name": "python",
   "nbconvert_exporter": "python",
   "pygments_lexer": "ipython3",
   "version": "3.6.5"
  }
 },
 "nbformat": 4,
 "nbformat_minor": 2
}
